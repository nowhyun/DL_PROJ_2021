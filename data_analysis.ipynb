{
 "metadata": {
  "language_info": {
   "codemirror_mode": {
    "name": "ipython",
    "version": 3
   },
   "file_extension": ".py",
   "mimetype": "text/x-python",
   "name": "python",
   "nbconvert_exporter": "python",
   "pygments_lexer": "ipython3",
   "version": "3.8.5"
  },
  "orig_nbformat": 2,
  "kernelspec": {
   "name": "python385jvsc74a57bd0611d3bf8493ec84d8291e2ca6c04a28997caacfa1c1d20f45222918fb453116d",
   "display_name": "Python 3.8.5 64-bit ('torch': conda)"
  }
 },
 "nbformat": 4,
 "nbformat_minor": 2,
 "cells": [
  {
   "cell_type": "code",
   "execution_count": 3,
   "metadata": {},
   "outputs": [],
   "source": [
    "import os\n",
    "import pandas as pd\n",
    "import re\n",
    "\n",
    "def read_data(f_name):\n",
    "    data = pd.read_csv(os.path.join(os.path.join(os.getcwd(), \"Dataset\"), f_name))\n",
    "    sentences = [clean_str(s) for s in data[\"Sentence\"]]\n",
    "    categories = data[\"Category\"]\n",
    "    return sentences, categories\n",
    "    # return data\n",
    "\n",
    "def clean_str(string):\n",
    "    \"\"\"\n",
    "    Tokenization/string cleaning for all datasets except for SST.\n",
    "    Every dataset is lower cased except for TREC\n",
    "    \"\"\"\n",
    "    string = re.sub(r\"[^A-Za-z0-9,!?\\'\\`\\.]\", \" \", string)\n",
    "    string = re.sub(r\"\\.{3}\", \" ...\", string)\n",
    "    string = re.sub(r\"\\'s\", \" \\'s\", string)\n",
    "    string = re.sub(r\"\\'ve\", \" \\'ve\", string)\n",
    "    string = re.sub(r\"n\\'t\", \" n\\'t\", string)\n",
    "    string = re.sub(r\"\\'re\", \" \\'re\", string)\n",
    "    string = re.sub(r\"\\'d\", \" \\'d\", string)\n",
    "    string = re.sub(r\"\\'ll\", \" \\'ll\", string)\n",
    "    string = re.sub(r\",\", \" , \", string)\n",
    "    string = re.sub(r\"!\", \" ! \", string)\n",
    "    string = re.sub(r\"\\?\", \" ? \", string)\n",
    "    string = re.sub(r\"\\s{2,}\", \" \", string)\n",
    "    return string.strip().lower()\n",
    "\n",
    "def Tokenizer(tokenizer, clean_string=True): # whitespace, regex, spacy, nltk\n",
    "    tokenizer = tokenizer.lower()\n",
    "\n",
    "    # Tokenize with whitespace\n",
    "    if tokenizer == 'whitespace':\n",
    "        tokenize = lambda string: string.strip().split()\n",
    "\n",
    "    if tokenizer == 'regex':\n",
    "        import re\n",
    "        pattern = r\"[A-Z]{2,}(?![a-z])|[A-Z][a-z]+(?=[A-Z])|[\\'\\w\\-]+\"\n",
    "        tokenize = lambda string: re.findall(pattern, string)\n",
    "\n",
    "    if tokenizer == 'spacy':\n",
    "        import spacy\n",
    "        nlp = spacy.load('en')\n",
    "        tokenize = lambda string: [token.text for token in nlp(string)]\n",
    "\n",
    "    # Tokenize with punctuations other than periods\n",
    "    if tokenizer == 'nltk':\n",
    "        from nltk import word_tokenize\n",
    "        tokenize = word_tokenize\n",
    "\n",
    "    if clean_string:\n",
    "        string = clean_str(string)\n",
    "        return tokenize(string)"
   ]
  },
  {
   "cell_type": "code",
   "execution_count": 4,
   "metadata": {},
   "outputs": [
    {
     "output_type": "stream",
     "name": "stdout",
     "text": [
      "Loading regex tokenizer\n['lrb', 'the', 'film', 'rrb', 'tackles', 'the', 'topic', 'of', 'relationships', 'in', 'such', 'a', 'straightforward', 'emotionally', 'honest', 'manner', 'that', 'by', 'the', 'end', 'it', \"'s\", 'impossible', 'to', 'ascertain', 'whether', 'the', 'film', 'is', 'at', 'its', 'core', 'deeply', 'pessimistic', 'or', 'quietly', 'hopeful']\n['lavishly', 'exhilaratingly', 'tasteless']\n['it', 'is', 'also', 'beautifully', 'acted']\n['but', 'like', 'silence', 'it', \"'s\", 'a', 'movie', 'that', 'gets', 'under', 'your', 'skin']\n['it', \"'s\", 'been', 'made', 'with', 'an', 'innocent', 'yet', 'fervid', 'conviction', 'that', 'our', 'hollywood', 'has', 'all', 'but', 'lost']\n"
     ]
    }
   ],
   "source": [
    "import preprocessing as prep\n",
    "from preprocessing import Tokenizer\n",
    "\n",
    "sents, cates = read_data(\"train_final.csv\")\n",
    "tokenizer = Tokenizer(\"regex\")\n",
    "\n",
    "for sent in sents[:5]:\n",
    "    print(tokenizer(sent))\n"
   ]
  },
  {
   "cell_type": "code",
   "execution_count": null,
   "metadata": {},
   "outputs": [],
   "source": []
  }
 ]
}