{
 "metadata": {
  "language_info": {
   "codemirror_mode": {
    "name": "ipython",
    "version": 3
   },
   "file_extension": ".py",
   "mimetype": "text/x-python",
   "name": "python",
   "nbconvert_exporter": "python",
   "pygments_lexer": "ipython3",
   "version": "3.8.5"
  },
  "orig_nbformat": 2,
  "kernelspec": {
   "name": "python385jvsc74a57bd0611d3bf8493ec84d8291e2ca6c04a28997caacfa1c1d20f45222918fb453116d",
   "display_name": "Python 3.8.5 64-bit ('torch': conda)"
  }
 },
 "nbformat": 4,
 "nbformat_minor": 2,
 "cells": [
  {
   "cell_type": "code",
   "execution_count": 29,
   "metadata": {},
   "outputs": [],
   "source": [
    "import os\n",
    "import pandas as pd\n",
    "from tokenizer import Tokenizer\n",
    "\n",
    "def read_data(f_name):\n",
    "    data = pd.read_csv(os.path.join(os.path.join(os.getcwd(), \"Dataset\"), f_name))\n",
    "    sentences = [clean_str(s) for s in data[\"Sentence\"]]\n",
    "    categories = data[\"Category\"]\n",
    "    return sentences, categories\n",
    "    # return data\n",
    "\n",
    "def clean_str(string):\n",
    "    \"\"\"\n",
    "    Tokenization/string cleaning for all datasets except for SST.\n",
    "    Every dataset is lower cased except for TREC\n",
    "    \"\"\"\n",
    "    string = re.sub(r\"[^A-Za-z0-9,!?\\'\\`\\.]\", \" \", string)\n",
    "    string = re.sub(r\"\\.{3}\", \" ...\", string)\n",
    "    string = re.sub(r\"\\'s\", \" \\'s\", string)\n",
    "    string = re.sub(r\"\\'ve\", \" \\'ve\", string)\n",
    "    string = re.sub(r\"n\\'t\", \" n\\'t\", string)\n",
    "    string = re.sub(r\"\\'re\", \" \\'re\", string)\n",
    "    string = re.sub(r\"\\'d\", \" \\'d\", string)\n",
    "    string = re.sub(r\"\\'ll\", \" \\'ll\", string)\n",
    "    string = re.sub(r\",\", \" , \", string)\n",
    "    string = re.sub(r\"!\", \" ! \", string)\n",
    "    string = re.sub(r\"\\?\", \" ? \", string)\n",
    "    string = re.sub(r\"\\s{2,}\", \" \", string)\n",
    "    return string.strip().lower()\n"
   ]
  },
  {
   "cell_type": "code",
   "execution_count": 35,
   "metadata": {},
   "outputs": [
    {
     "output_type": "stream",
     "name": "stdout",
     "text": [
      "max : 53\n",
      "min : 2\n",
      "go .\n",
      "go .\n",
      "eh .\n",
      "eh .\n",
      "max : 275\n",
      "min : 4\n"
     ]
    }
   ],
   "source": [
    "sents, cates = read_data(\"train_final.csv\")\n",
    "\n",
    "tokenizer = Tokenizer()\n",
    "lenth = []\n",
    "for sent in sents:\n",
    "    lenth.append(len(tokenizer(sent)))\n",
    "print(\"max : {}\".format(max(lenth)))\n",
    "print(\"min : {}\".format(min(lenth)))\n",
    "\n",
    "lenth = []\n",
    "for sent in sents:\n",
    "    lenth.append(len(clean_str(sent)))\n",
    "    if len(clean_str(sent)) == 4:\n",
    "        print(clean_str(sent))\n",
    "        print(sent)\n",
    "print(\"max : {}\".format(max(lenth)))\n",
    "print(\"min : {}\".format(min(lenth)))\n"
   ]
  },
  {
   "cell_type": "code",
   "execution_count": null,
   "metadata": {},
   "outputs": [],
   "source": [
    "\n"
   ]
  }
 ]
}