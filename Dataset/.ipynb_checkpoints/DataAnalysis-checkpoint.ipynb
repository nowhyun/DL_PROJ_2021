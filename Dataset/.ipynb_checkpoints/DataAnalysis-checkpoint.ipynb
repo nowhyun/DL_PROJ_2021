{
 "cells": [
  {
   "cell_type": "code",
   "execution_count": 201,
   "id": "5eaa1ce7",
   "metadata": {
    "ExecuteTime": {
     "end_time": "2021-05-17T06:23:41.321045Z",
     "start_time": "2021-05-17T06:23:41.315217Z"
    }
   },
   "outputs": [],
   "source": [
    "import numpy as np\n",
    "import random\n",
    "import os\n",
    "np.random.seed(42)\n",
    "random.seed(42)\n",
    "os.environ['PYTHONHASHSEED'] = str(42)"
   ]
  },
  {
   "cell_type": "markdown",
   "id": "d9718ac1",
   "metadata": {},
   "source": [
    "# Out of vocab issue check"
   ]
  },
  {
   "cell_type": "code",
   "execution_count": 74,
   "id": "7a13f152",
   "metadata": {
    "ExecuteTime": {
     "end_time": "2021-05-17T03:09:05.470132Z",
     "start_time": "2021-05-17T03:09:05.425679Z"
    }
   },
   "outputs": [],
   "source": [
    "import pandas as pd\n",
    "train_dataset_df = pd.read_csv('./train_final.csv')\n",
    "test_dataset_df = pd.read_csv('./eval_final_open.csv')"
   ]
  },
  {
   "cell_type": "code",
   "execution_count": 2,
   "id": "a8248a99",
   "metadata": {
    "ExecuteTime": {
     "end_time": "2021-05-17T01:50:33.981472Z",
     "start_time": "2021-05-17T01:50:27.663404Z"
    }
   },
   "outputs": [],
   "source": [
    "from transformers import BertTokenizer, ElectraTokenizer\n",
    "bert_base_tokenizer = BertTokenizer.from_pretrained('bert-base-uncased')\n",
    "electra_base_tokenizer = ElectraTokenizer.from_pretrained('google/electra-base-discriminator')"
   ]
  },
  {
   "cell_type": "code",
   "execution_count": 25,
   "id": "8e212de0",
   "metadata": {
    "ExecuteTime": {
     "end_time": "2021-05-17T01:58:30.139520Z",
     "start_time": "2021-05-17T01:58:30.128758Z"
    }
   },
   "outputs": [],
   "source": [
    "def check_oov(tokenizer):\n",
    "    \"\"\"Check if out of vocabulary issues occur when the tokenizer is applied\n",
    "    \"\"\"\n",
    "    unk_idx = tokenizer.convert_tokens_to_ids(tokenizer.unk_token)\n",
    "    train_ids = [tokenizer.encode(sent, add_special_tokens=True) for sent in train_dataset_df.Sentence]\n",
    "    train_ids_list = []\n",
    "    for ids in train_ids:\n",
    "        train_ids_list.extend(ids)\n",
    "    train_ids_list = np.array(train_ids_list)\n",
    "    numOfUnkTokensInTrain = sum(train_ids_list==unk_idx)\n",
    "    test_ids = [tokenizer.encode(sent, add_special_tokens=True) for sent in test_dataset_df.Sentence]\n",
    "    test_ids_list = []\n",
    "    for ids in test_ids:\n",
    "        test_ids_list.extend(ids)\n",
    "    test_ids_list = np.array(test_ids_list)\n",
    "    numOfUnkTokensInTest = sum(test_ids_list==unk_idx)\n",
    "    print(f\"num. unknown tokens in Train dataset: {numOfUnkTokensInTrain}, num. unknown tokens in Test dataset: {numOfUnkTokensInTest}\")"
   ]
  },
  {
   "cell_type": "code",
   "execution_count": 26,
   "id": "eb8d5c4f",
   "metadata": {
    "ExecuteTime": {
     "end_time": "2021-05-17T01:58:37.559112Z",
     "start_time": "2021-05-17T01:58:30.393908Z"
    }
   },
   "outputs": [
    {
     "name": "stdout",
     "output_type": "stream",
     "text": [
      "num. unknown tokens in Train dataset: 0, num. unknown tokens in Test dataset: 0\n"
     ]
    }
   ],
   "source": [
    "check_oov(bert_base_tokenizer)"
   ]
  },
  {
   "cell_type": "code",
   "execution_count": 27,
   "id": "796c16c7",
   "metadata": {
    "ExecuteTime": {
     "end_time": "2021-05-17T01:59:46.348062Z",
     "start_time": "2021-05-17T01:59:39.216958Z"
    }
   },
   "outputs": [
    {
     "name": "stdout",
     "output_type": "stream",
     "text": [
      "num. unknown tokens in Train dataset: 0, num. unknown tokens in Test dataset: 0\n"
     ]
    }
   ],
   "source": [
    "check_oov(electra_base_tokenizer)"
   ]
  },
  {
   "cell_type": "markdown",
   "id": "c1879288",
   "metadata": {},
   "source": [
    "# Duplicated sentence check"
   ]
  },
  {
   "cell_type": "code",
   "execution_count": 93,
   "id": "b6ec79e8",
   "metadata": {
    "ExecuteTime": {
     "end_time": "2021-05-17T04:30:15.342995Z",
     "start_time": "2021-05-17T04:30:15.322326Z"
    }
   },
   "outputs": [
    {
     "name": "stdout",
     "output_type": "stream",
     "text": [
      "0    False\n",
      "1    False\n",
      "2     True\n",
      "3    False\n",
      "4     True\n",
      "5     True\n",
      "6    False\n",
      "7     True\n",
      "8     True\n",
      "9     True\n",
      "dtype: bool\n",
      "\n",
      "0    False\n",
      "1     True\n",
      "2     True\n",
      "3     True\n",
      "4     True\n",
      "5     True\n",
      "6     True\n",
      "7     True\n",
      "8     True\n",
      "9     True\n",
      "dtype: bool\n",
      "\n",
      "   Sentence\n",
      "0         1\n",
      "1         2\n",
      "2         3\n",
      "3         4\n"
     ]
    }
   ],
   "source": [
    "# Test example\n",
    "test_df = pd.DataFrame()\n",
    "test_df[\"Sentence\"] = [1,2,2,3,3,3,4,4,4,4]\n",
    "print(test_df.duplicated([\"Sentence\"])); print()\n",
    "print(test_df.duplicated([\"Sentence\"], keep=False)); print()\n",
    "test_df.drop_duplicates([\"Sentence\"], inplace=True)\n",
    "print(test_df.reset_index(drop=True))"
   ]
  },
  {
   "cell_type": "code",
   "execution_count": 75,
   "id": "747e551a",
   "metadata": {
    "ExecuteTime": {
     "end_time": "2021-05-17T03:09:06.039638Z",
     "start_time": "2021-05-17T03:09:05.987118Z"
    }
   },
   "outputs": [
    {
     "name": "stdout",
     "output_type": "stream",
     "text": [
      "num. duplicated sentence in Train dataset: 2981, num. duplicated sentence in Test dataset: 1\n"
     ]
    }
   ],
   "source": [
    "# Check the number of duplicated sentence in dataset\n",
    "numOfDuplicatedSentInTrain = sum(train_dataset_df.duplicated([\"Sentence\", \"Category\"]).values)\n",
    "numOfDuplicatedSentInTest = sum(test_dataset_df.duplicated([\"Sentence\"]).values)\n",
    "print(f\"num. duplicated sentence in Train dataset: {numOfDuplicatedSentInTrain}, num. duplicated sentence in Test dataset: {numOfDuplicatedSentInTest}\")"
   ]
  },
  {
   "cell_type": "code",
   "execution_count": 83,
   "id": "ffd960ec",
   "metadata": {
    "ExecuteTime": {
     "end_time": "2021-05-17T03:12:17.890499Z",
     "start_time": "2021-05-17T03:12:17.846185Z"
    }
   },
   "outputs": [],
   "source": [
    "# Save the dataset\n",
    "train_dataset_df.to_csv(\"./train_drop_duplicates.csv\")"
   ]
  },
  {
   "cell_type": "code",
   "execution_count": 82,
   "id": "c95d50e6",
   "metadata": {
    "ExecuteTime": {
     "end_time": "2021-05-17T03:11:40.516129Z",
     "start_time": "2021-05-17T03:11:40.496806Z"
    },
    "scrolled": true
   },
   "outputs": [
    {
     "name": "stdout",
     "output_type": "stream",
     "text": [
      "0    False\n",
      "1    False\n",
      "2     True\n",
      "3    False\n",
      "4     True\n",
      "5     True\n",
      "6    False\n",
      "7     True\n",
      "8     True\n",
      "9     True\n",
      "dtype: bool\n",
      "\n",
      "0    False\n",
      "1     True\n",
      "2     True\n",
      "3     True\n",
      "4     True\n",
      "5     True\n",
      "6     True\n",
      "7     True\n",
      "8     True\n",
      "9     True\n",
      "dtype: bool\n",
      "\n",
      "   Sentence\n",
      "0         1\n",
      "1         2\n",
      "2         3\n",
      "3         4\n"
     ]
    }
   ],
   "source": [
    "# Test example\n",
    "test_df = pd.DataFrame()\n",
    "test_df[\"Sentence\"] = [1,2,2,3,3,3,4,4,4,4]\n",
    "print(test_df.duplicated([\"Sentence\"])); print()\n",
    "print(test_df.duplicated([\"Sentence\"], keep=False)); print()\n",
    "test_df.drop_duplicates([\"Sentence\"], inplace=True)\n",
    "print(test_df.reset_index(drop=True))"
   ]
  },
  {
   "cell_type": "markdown",
   "id": "7f33b067",
   "metadata": {},
   "source": [
    "# Difference of max length between Train sentences and Test sentences"
   ]
  },
  {
   "cell_type": "code",
   "execution_count": 97,
   "id": "2f2b83a2",
   "metadata": {
    "ExecuteTime": {
     "end_time": "2021-05-17T04:31:32.932248Z",
     "start_time": "2021-05-17T04:31:32.924667Z"
    }
   },
   "outputs": [],
   "source": [
    "def check_max_len(tokenizer):\n",
    "    encoded_train_dataset = [tokenizer.encode(sent, add_special_tokens=True) for sent in train_dataset_df.Sentence.values]\n",
    "    train_max_len = max([len(sent) for sent in encoded_train_dataset])\n",
    "    encoded_test_dataset = [tokenizer.encode(sent, add_special_tokens=True) for sent in test_dataset_df.Sentence.values]\n",
    "    test_max_len = max([len(sent) for sent in encoded_test_dataset])\n",
    "    print(f\"max length of Train sentences: {train_max_len}, max length of Test sentences: {test_max_len}\")"
   ]
  },
  {
   "cell_type": "code",
   "execution_count": 98,
   "id": "70e5e804",
   "metadata": {
    "ExecuteTime": {
     "end_time": "2021-05-17T04:31:50.858656Z",
     "start_time": "2021-05-17T04:31:45.704472Z"
    }
   },
   "outputs": [
    {
     "name": "stdout",
     "output_type": "stream",
     "text": [
      "max length of Train sentences: 80, max length of Test sentences: 71\n"
     ]
    }
   ],
   "source": [
    "check_max_len(bert_base_tokenizer)"
   ]
  },
  {
   "cell_type": "code",
   "execution_count": 99,
   "id": "244fe971",
   "metadata": {
    "ExecuteTime": {
     "end_time": "2021-05-17T04:32:25.111958Z",
     "start_time": "2021-05-17T04:32:20.057017Z"
    }
   },
   "outputs": [
    {
     "name": "stdout",
     "output_type": "stream",
     "text": [
      "max length of Train sentences: 80, max length of Test sentences: 71\n"
     ]
    }
   ],
   "source": [
    "check_max_len(electra_base_tokenizer)"
   ]
  },
  {
   "cell_type": "markdown",
   "id": "0dc2878d",
   "metadata": {},
   "source": [
    "# Distribution of the number of tokens"
   ]
  },
  {
   "cell_type": "code",
   "execution_count": 106,
   "id": "442f458d",
   "metadata": {
    "ExecuteTime": {
     "end_time": "2021-05-17T05:08:52.802382Z",
     "start_time": "2021-05-17T05:08:52.769894Z"
    }
   },
   "outputs": [],
   "source": [
    "import matplotlib as mpl\n",
    "import matplotlib.pyplot as plt\n",
    "mpl.style.use(\"ggplot\")\n",
    "train_dataset_df = pd.read_csv('./train_drop_duplicates.csv')"
   ]
  },
  {
   "cell_type": "code",
   "execution_count": 101,
   "id": "335e7791",
   "metadata": {
    "ExecuteTime": {
     "end_time": "2021-05-17T04:33:38.616483Z",
     "start_time": "2021-05-17T04:33:38.609693Z"
    }
   },
   "outputs": [],
   "source": [
    "def check_dist_numOfTOkens(tokenizer, dataset):\n",
    "    encoded_dataset = [tokenizer.encode(sent, add_special_tokens=True) for sent in dataset.Sentence.values]\n",
    "    bins = np.arange(0,100,5)\n",
    "    plt.hist([len(sent) for sent in encoded_dataset], bins)\n",
    "    plt.show()"
   ]
  },
  {
   "cell_type": "code",
   "execution_count": 102,
   "id": "abe0ea8d",
   "metadata": {
    "ExecuteTime": {
     "end_time": "2021-05-17T04:33:58.895511Z",
     "start_time": "2021-05-17T04:33:55.282060Z"
    }
   },
   "outputs": [
    {
     "data": {
      "image/png": "[encoded data removed]",
      "text/plain": [
       "<Figure size 432x288 with 1 Axes>"
      ]
     },
     "metadata": {},
     "output_type": "display_data"
    }
   ],
   "source": [
    "check_dist_numOfTOkens(bert_base_tokenizer, train_dataset_df)"
   ]
  },
  {
   "cell_type": "code",
   "execution_count": 103,
   "id": "d6dccbfa",
   "metadata": {
    "ExecuteTime": {
     "end_time": "2021-05-17T04:34:03.991860Z",
     "start_time": "2021-05-17T04:34:02.122470Z"
    }
   },
   "outputs": [
    {
     "data": {
      "image/png": "[encoded data removed]",
      "text/plain": [
       "<Figure size 432x288 with 1 Axes>"
      ]
     },
     "metadata": {},
     "output_type": "display_data"
    }
   ],
   "source": [
    "check_dist_numOfTOkens(bert_base_tokenizer, test_dataset_df)"
   ]
  },
  {
   "cell_type": "code",
   "execution_count": 104,
   "id": "0d13bb7b",
   "metadata": {
    "ExecuteTime": {
     "end_time": "2021-05-17T04:34:19.265899Z",
     "start_time": "2021-05-17T04:34:15.667192Z"
    }
   },
   "outputs": [
    {
     "data": {
      "image/png": "[encoded data removed]",
      "text/plain": [
       "<Figure size 432x288 with 1 Axes>"
      ]
     },
     "metadata": {},
     "output_type": "display_data"
    }
   ],
   "source": [
    "check_dist_numOfTOkens(electra_base_tokenizer, train_dataset_df)"
   ]
  },
  {
   "cell_type": "code",
   "execution_count": 105,
   "id": "6dafd14d",
   "metadata": {
    "ExecuteTime": {
     "end_time": "2021-05-17T04:34:21.116147Z",
     "start_time": "2021-05-17T04:34:19.267298Z"
    }
   },
   "outputs": [
    {
     "data": {
      "image/png": "[encoded data removed]",
      "text/plain": [
       "<Figure size 432x288 with 1 Axes>"
      ]
     },
     "metadata": {},
     "output_type": "display_data"
    }
   ],
   "source": [
    "check_dist_numOfTOkens(electra_base_tokenizer, test_dataset_df)"
   ]
  },
  {
   "cell_type": "markdown",
   "id": "d52a340a",
   "metadata": {},
   "source": [
    "# Regular Expression"
   ]
  },
  {
   "cell_type": "code",
   "execution_count": 149,
   "id": "42946b3d",
   "metadata": {
    "ExecuteTime": {
     "end_time": "2021-05-17T05:25:14.812150Z",
     "start_time": "2021-05-17T05:25:14.780516Z"
    }
   },
   "outputs": [],
   "source": [
    "train_dataset_df = pd.read_csv('./train_drop_duplicates.csv')"
   ]
  },
  {
   "cell_type": "code",
   "execution_count": 141,
   "id": "3b6cbf81",
   "metadata": {
    "ExecuteTime": {
     "end_time": "2021-05-17T05:23:33.733778Z",
     "start_time": "2021-05-17T05:23:33.728032Z"
    }
   },
   "outputs": [],
   "source": [
    "def RegExp(string):\n",
    "    import re\n",
    "    string = re.sub(r\"-LRB-\", \" \", string)\n",
    "    string = re.sub(r\"-RRB-\", \" \", string)\n",
    "    string = re.sub(r\"[^A-Za-z0-9,!?\\'\\`\\.]\", \" \", string)\n",
    "    return string"
   ]
  },
  {
   "cell_type": "code",
   "execution_count": 153,
   "id": "ed9e765c",
   "metadata": {
    "ExecuteTime": {
     "end_time": "2021-05-17T05:25:46.689003Z",
     "start_time": "2021-05-17T05:25:46.658075Z"
    }
   },
   "outputs": [
    {
     "name": "stdout",
     "output_type": "stream",
     "text": [
      "-LRB- The film -RRB- tackles the topic of relationships in such a straightforward , emotionally honest manner that by the end , it 's impossible to ascertain whether the film is , at its core , deeply pessimistic or quietly hopeful .\n",
      "  The film   tackles the topic of relationships in such a straightforward , emotionally honest manner that by the end , it 's impossible to ascertain whether the film is , at its core , deeply pessimistic or quietly hopeful .\n"
     ]
    }
   ],
   "source": [
    "train_dataset_df = pd.read_csv('./train_drop_duplicates.csv')\n",
    "print(train_dataset_df.Sentence[0])\n",
    "print(RegExp(train_dataset_df.Sentence[0]))"
   ]
  },
  {
   "cell_type": "code",
   "execution_count": 159,
   "id": "15b158f7",
   "metadata": {
    "ExecuteTime": {
     "end_time": "2021-05-17T05:28:38.303793Z",
     "start_time": "2021-05-17T05:28:38.175883Z"
    }
   },
   "outputs": [
    {
     "data": {
      "text/html": [
       "<div>\n",
       "<style scoped>\n",
       "    .dataframe tbody tr th:only-of-type {\n",
       "        vertical-align: middle;\n",
       "    }\n",
       "\n",
       "    .dataframe tbody tr th {\n",
       "        vertical-align: top;\n",
       "    }\n",
       "\n",
       "    .dataframe thead th {\n",
       "        text-align: right;\n",
       "    }\n",
       "</style>\n",
       "<table border=\"1\" class=\"dataframe\">\n",
       "  <thead>\n",
       "    <tr style=\"text-align: right;\">\n",
       "      <th></th>\n",
       "      <th>Id</th>\n",
       "      <th>Category</th>\n",
       "      <th>Sentence</th>\n",
       "    </tr>\n",
       "  </thead>\n",
       "  <tbody>\n",
       "    <tr>\n",
       "      <th>0</th>\n",
       "      <td>0</td>\n",
       "      <td>3</td>\n",
       "      <td>The film   tackles the topic of relationship...</td>\n",
       "    </tr>\n",
       "    <tr>\n",
       "      <th>1</th>\n",
       "      <td>1</td>\n",
       "      <td>2</td>\n",
       "      <td>Lavishly , exhilaratingly tasteless .</td>\n",
       "    </tr>\n",
       "    <tr>\n",
       "      <th>2</th>\n",
       "      <td>2</td>\n",
       "      <td>4</td>\n",
       "      <td>It is also beautifully acted .</td>\n",
       "    </tr>\n",
       "    <tr>\n",
       "      <th>3</th>\n",
       "      <td>3</td>\n",
       "      <td>1</td>\n",
       "      <td>But , like Silence , it 's a movie that gets u...</td>\n",
       "    </tr>\n",
       "    <tr>\n",
       "      <th>4</th>\n",
       "      <td>4</td>\n",
       "      <td>2</td>\n",
       "      <td>It 's been made with an innocent yet fervid co...</td>\n",
       "    </tr>\n",
       "    <tr>\n",
       "      <th>...</th>\n",
       "      <td>...</td>\n",
       "      <td>...</td>\n",
       "      <td>...</td>\n",
       "    </tr>\n",
       "    <tr>\n",
       "      <th>8558</th>\n",
       "      <td>11531</td>\n",
       "      <td>2</td>\n",
       "      <td>If you ignore the cliches and concentrate on C...</td>\n",
       "    </tr>\n",
       "    <tr>\n",
       "      <th>8559</th>\n",
       "      <td>11532</td>\n",
       "      <td>3</td>\n",
       "      <td>A macabre and very stylized Swedish fillm abou...</td>\n",
       "    </tr>\n",
       "    <tr>\n",
       "      <th>8560</th>\n",
       "      <td>11533</td>\n",
       "      <td>4</td>\n",
       "      <td>... an eerily suspenseful , deeply absorbing p...</td>\n",
       "    </tr>\n",
       "    <tr>\n",
       "      <th>8561</th>\n",
       "      <td>11537</td>\n",
       "      <td>1</td>\n",
       "      <td>This is n't a movie   it 's a symptom .</td>\n",
       "    </tr>\n",
       "    <tr>\n",
       "      <th>8562</th>\n",
       "      <td>11543</td>\n",
       "      <td>4</td>\n",
       "      <td>An ambitious movie that , like Shiner 's organ...</td>\n",
       "    </tr>\n",
       "  </tbody>\n",
       "</table>\n",
       "<p>8563 rows × 3 columns</p>\n",
       "</div>"
      ],
      "text/plain": [
       "         Id  Category                                           Sentence\n",
       "0         0         3    The film   tackles the topic of relationship...\n",
       "1         1         2              Lavishly , exhilaratingly tasteless .\n",
       "2         2         4                     It is also beautifully acted .\n",
       "3         3         1  But , like Silence , it 's a movie that gets u...\n",
       "4         4         2  It 's been made with an innocent yet fervid co...\n",
       "...     ...       ...                                                ...\n",
       "8558  11531         2  If you ignore the cliches and concentrate on C...\n",
       "8559  11532         3  A macabre and very stylized Swedish fillm abou...\n",
       "8560  11533         4  ... an eerily suspenseful , deeply absorbing p...\n",
       "8561  11537         1            This is n't a movie   it 's a symptom .\n",
       "8562  11543         4  An ambitious movie that , like Shiner 's organ...\n",
       "\n",
       "[8563 rows x 3 columns]"
      ]
     },
     "execution_count": 159,
     "metadata": {},
     "output_type": "execute_result"
    }
   ],
   "source": [
    "train_dataset_df = pd.read_csv('./train_drop_duplicates.csv')\n",
    "train_dataset_df.Sentence = train_dataset_df.Sentence.map(lambda sent: RegExp(sent))\n",
    "train_dataset_df.drop(\"Unnamed: 0\", axis=1, inplace=True)\n",
    "train_dataset_df.to_csv(\"./train_drop_duplicates_regexp_opt_0.csv\", index=False)\n",
    "train_dataset_df"
   ]
  },
  {
   "cell_type": "markdown",
   "id": "9c151a49",
   "metadata": {},
   "source": [
    "# Train, Valid Split"
   ]
  },
  {
   "cell_type": "code",
   "execution_count": 202,
   "id": "24d6f6dc",
   "metadata": {
    "ExecuteTime": {
     "end_time": "2021-05-17T06:26:03.278388Z",
     "start_time": "2021-05-17T06:26:03.269807Z"
    }
   },
   "outputs": [],
   "source": [
    "def split_and_save_dataset(dataset_df, split_ratio=1):\n",
    "    from sklearn.model_selection import train_test_split\n",
    "    split_ratio_ = float(f\"0.{split_ratio}\")\n",
    "    X_arr = dataset_df.Sentence.values\n",
    "    y_arr = dataset_df.Category.values\n",
    "    train_dataset_df, valid_dataset_df = train_test_split(dataset_df, test_size=split_ratio_, random_state=42, shuffle=True, stratify=y_arr)\n",
    "    print(f\"len_train: {len(train_dataset_df)}, len_valid: {len(valid_dataset_df)}\")\n",
    "    train_dataset_df.to_csv(\"./train_dd_reopt_0_ratio_\"+str(split_ratio)+\".csv\", index=False)\n",
    "    valid_dataset_df.to_csv(\"./valid_dd_reopt_0_ratio_\"+str(split_ratio)+\".csv\", index=False)"
   ]
  },
  {
   "cell_type": "code",
   "execution_count": 203,
   "id": "0a89f99e",
   "metadata": {
    "ExecuteTime": {
     "end_time": "2021-05-17T06:26:03.791801Z",
     "start_time": "2021-05-17T06:26:03.764595Z"
    }
   },
   "outputs": [],
   "source": [
    "full_dataset_df = pd.read_csv('./train_drop_duplicates_regexp_opt_0.csv')"
   ]
  },
  {
   "cell_type": "code",
   "execution_count": 204,
   "id": "2afc4e37",
   "metadata": {
    "ExecuteTime": {
     "end_time": "2021-05-17T06:26:04.124309Z",
     "start_time": "2021-05-17T06:26:04.080237Z"
    }
   },
   "outputs": [
    {
     "name": "stdout",
     "output_type": "stream",
     "text": [
      "len_train: 7706, len_valid: 857\n"
     ]
    }
   ],
   "source": [
    "split_and_save_dataset(full_dataset_df, split_ratio=1)"
   ]
  },
  {
   "cell_type": "code",
   "execution_count": 205,
   "id": "90cf72bc",
   "metadata": {
    "ExecuteTime": {
     "end_time": "2021-05-17T06:26:04.272956Z",
     "start_time": "2021-05-17T06:26:04.234287Z"
    }
   },
   "outputs": [
    {
     "name": "stdout",
     "output_type": "stream",
     "text": [
      "len_train: 6850, len_valid: 1713\n"
     ]
    }
   ],
   "source": [
    "split_and_save_dataset(full_dataset_df, split_ratio=2)"
   ]
  },
  {
   "cell_type": "code",
   "execution_count": 206,
   "id": "a96ad813",
   "metadata": {
    "ExecuteTime": {
     "end_time": "2021-05-17T06:26:04.457497Z",
     "start_time": "2021-05-17T06:26:04.415118Z"
    },
    "scrolled": true
   },
   "outputs": [
    {
     "name": "stdout",
     "output_type": "stream",
     "text": [
      "len_train: 5994, len_valid: 2569\n"
     ]
    }
   ],
   "source": [
    "split_and_save_dataset(full_dataset_df, split_ratio=3)"
   ]
  },
  {
   "cell_type": "code",
   "execution_count": null,
   "id": "a11d0aef",
   "metadata": {},
   "outputs": [],
   "source": []
  }
 ],
 "metadata": {
  "kernelspec": {
   "display_name": "Python 3",
   "language": "python",
   "name": "python3"
  },
  "language_info": {
   "codemirror_mode": {
    "name": "ipython",
    "version": 3
   },
   "file_extension": ".py",
   "mimetype": "text/x-python",
   "name": "python",
   "nbconvert_exporter": "python",
   "pygments_lexer": "ipython3",
   "version": "3.7.10"
  },
  "toc": {
   "base_numbering": 1,
   "nav_menu": {},
   "number_sections": true,
   "sideBar": true,
   "skip_h1_title": false,
   "title_cell": "Table of Contents",
   "title_sidebar": "Contents",
   "toc_cell": false,
   "toc_position": {},
   "toc_section_display": true,
   "toc_window_display": false
  }
 },
 "nbformat": 4,
 "nbformat_minor": 5
}
